{
 "cells": [
  {
   "cell_type": "code",
   "execution_count": 2,
   "id": "ae56f32a-fefc-4105-a704-2366d7c95fd5",
   "metadata": {},
   "outputs": [
    {
     "name": "stdout",
     "output_type": "stream",
     "text": [
      "Requirement already satisfied: sqlalchemy in f:\\ironhack\\anaconda\\lib\\site-packages (2.0.25)\n",
      "Requirement already satisfied: psycopg2 in f:\\ironhack\\anaconda\\lib\\site-packages (2.9.9)\n",
      "Requirement already satisfied: pandas in f:\\ironhack\\anaconda\\lib\\site-packages (2.1.4)\n",
      "Requirement already satisfied: typing-extensions>=4.6.0 in f:\\ironhack\\anaconda\\lib\\site-packages (from sqlalchemy) (4.9.0)\n",
      "Requirement already satisfied: greenlet!=0.4.17 in f:\\ironhack\\anaconda\\lib\\site-packages (from sqlalchemy) (3.0.1)\n",
      "Requirement already satisfied: numpy<2,>=1.23.2 in f:\\ironhack\\anaconda\\lib\\site-packages (from pandas) (1.26.4)\n",
      "Requirement already satisfied: python-dateutil>=2.8.2 in f:\\ironhack\\anaconda\\lib\\site-packages (from pandas) (2.8.2)\n",
      "Requirement already satisfied: pytz>=2020.1 in f:\\ironhack\\anaconda\\lib\\site-packages (from pandas) (2023.3.post1)\n",
      "Requirement already satisfied: tzdata>=2022.1 in f:\\ironhack\\anaconda\\lib\\site-packages (from pandas) (2023.3)\n",
      "Requirement already satisfied: six>=1.5 in f:\\ironhack\\anaconda\\lib\\site-packages (from python-dateutil>=2.8.2->pandas) (1.16.0)\n",
      "Error: (psycopg2.OperationalError) could not translate host name \"your_host\" to address: No such host is known. \n",
      "\n",
      "(Background on this error at: https://sqlalche.me/e/20/e3q8)\n"
     ]
    }
   ],
   "source": [
    "!pip install sqlalchemy psycopg2 pandas\n",
    "import pandas as pd\n",
    "from sqlalchemy import create_engine\n",
    "\n",
    "# Define the connection string (replace placeholders with actual values)\n",
    "database_type = 'postgresql'\n",
    "username = 'your_username'\n",
    "password = 'your_password'\n",
    "host = 'your_host'\n",
    "port = 3306  \n",
    "database = 'sakila'\n",
    "\n",
    "# Create the engine\n",
    "engine = create_engine(f'{database_type}://{username}:{password}@{host}:{port}/{database}')\n",
    "\n",
    "# Test the connection\n",
    "try:\n",
    "    with engine.connect() as connection:\n",
    "        print(\"Connection established successfully!\")\n",
    "except Exception as e:\n",
    "    print(f\"Error: {e}\")\n",
    "\n",
    "def rentals_month(engine, month, year):\n",
    "    query = f\"\"\"\n",
    "    SELECT rental_id, rental_date, inventory_id, customer_id, return_date, staff_id\n",
    "    FROM rental\n",
    "    WHERE EXTRACT(MONTH FROM rental_date) = {month} AND EXTRACT(YEAR FROM rental_date) = {year}\n",
    "    \"\"\"\n",
    "    with engine.connect() as connection:\n",
    "        df = pd.read_sql(query, connection)\n",
    "    return df\n",
    "\n",
    "def rental_count_month(df, month, year):\n",
    "    rental_count = df.groupby('customer_id').size().reset_index(name=f'rentals_{month:02d}_{year}')\n",
    "    return rental_count\n",
    "\n",
    "def compare_rentals(df1, df2, month1, year1, month2, year2):\n",
    "    merged_df = pd.merge(df1, df2, on='customer_id', how='outer', suffixes=(f'_{month1:02d}_{year1}', f'_{month2:02d}_{year2}'))\n",
    "    merged_df.fillna(0, inplace=True)\n",
    "    merged_df['difference'] = merged_df[f'rentals_{month2:02d}_{year2}'] - merged_df[f'rentals_{month1:02d}_{year1}']\n",
    "    return merged_df\n",
    "\n",
    "# Retrieve data for May and June 2005\n",
    "df_may = rentals_month(engine, 5, 2005)\n",
    "rental_count_may = rental_count_month(df_may, 5, 2005)\n",
    "\n",
    "df_june = rentals_month(engine, 6, 2005)\n",
    "rental_count_june = rental_count_month(df_june, 6, 2005)\n",
    "\n",
    "# Compare rentals between May and June 2005\n",
    "comparison_df = compare_rentals(rental_count_may, rental_count_june, 5, 2005, 6, 2005)\n",
    "print(comparison_df.head())\n"
   ]
  },
  {
   "cell_type": "code",
   "execution_count": null,
   "id": "20cb4efa-2732-4639-87f9-c00fa594ac9d",
   "metadata": {},
   "outputs": [],
   "source": []
  }
 ],
 "metadata": {
  "kernelspec": {
   "display_name": "Python 3 (ipykernel)",
   "language": "python",
   "name": "python3"
  },
  "language_info": {
   "codemirror_mode": {
    "name": "ipython",
    "version": 3
   },
   "file_extension": ".py",
   "mimetype": "text/x-python",
   "name": "python",
   "nbconvert_exporter": "python",
   "pygments_lexer": "ipython3",
   "version": "3.11.7"
  }
 },
 "nbformat": 4,
 "nbformat_minor": 5
}
